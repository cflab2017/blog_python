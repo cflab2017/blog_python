{
  "nbformat": 4,
  "nbformat_minor": 0,
  "metadata": {
    "colab": {
      "name": "pythonTest.ipynb",
      "provenance": [],
      "collapsed_sections": [],
      "authorship_tag": "ABX9TyPa2I/9l7yeKVGB6LTKpdWJ",
      "include_colab_link": true
    },
    "kernelspec": {
      "name": "python3",
      "display_name": "Python 3"
    }
  },
  "cells": [
    {
      "cell_type": "markdown",
      "metadata": {
        "id": "view-in-github",
        "colab_type": "text"
      },
      "source": [
        "<a href=\"https://colab.research.google.com/github/cflab2017/blog_python/blob/main/pythonTest.ipynb\" target=\"_parent\"><img src=\"https://colab.research.google.com/assets/colab-badge.svg\" alt=\"Open In Colab\"/></a>"
      ]
    },
    {
      "cell_type": "code",
      "metadata": {
        "id": "anL9l9Dlp2wK",
        "colab": {
          "base_uri": "https://localhost:8080/"
        },
        "outputId": "26c78da2-2e57-4e0c-a83f-0d337cb282fb"
      },
      "source": [
        "value = int(input('입력하세요'))\r\n",
        "\r\n",
        "if value > 10:\r\n",
        "  print('10보다크다')\r\n",
        "else:\r\n",
        "  print('10보다 작거나 같다')"
      ],
      "execution_count": null,
      "outputs": [
        {
          "output_type": "stream",
          "text": [
            "입력하세요20\n",
            "10보다크다\n"
          ],
          "name": "stdout"
        }
      ]
    },
    {
      "cell_type": "code",
      "metadata": {
        "colab": {
          "base_uri": "https://localhost:8080/"
        },
        "id": "c8J9JExoyGp7",
        "outputId": "8c91b9ff-8ccf-48e4-9ff9-472939ca1854"
      },
      "source": [
        "a, b = map(int, input().split())\r\n",
        "print(a+b)\r\n"
      ],
      "execution_count": null,
      "outputs": [
        {
          "output_type": "stream",
          "text": [
            "10 11\n",
            "21\n"
          ],
          "name": "stdout"
        }
      ]
    },
    {
      "cell_type": "code",
      "metadata": {
        "id": "m66bdjflp328"
      },
      "source": [
        ""
      ],
      "execution_count": null,
      "outputs": []
    }
  ]
}